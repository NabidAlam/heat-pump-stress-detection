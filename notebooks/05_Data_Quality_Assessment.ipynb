{
  "cells": [
    {
      "cell_type": "markdown",
      "metadata": {},
      "source": [
        "# **Data Quality Assessment & Recommendations**\n",
        "## Heat Pump Stress Detection for Demand Response - EDA Part 5\n",
        "\n",
        "**Purpose:** Comprehensive data quality analysis and recommendations  \n",
        "**Focus:** Missing values, data integrity, preprocessing requirements  \n",
        "\n",
        "---\n",
        "\n",
        "### **What this notebook covers:**\n",
        "- Comprehensive missing value analysis\n",
        "- Data integrity checks\n",
        "- Outlier detection\n",
        "- Data preprocessing recommendations\n",
        "- Final data quality summary and next steps\n"
      ]
    },
    {
      "cell_type": "code",
      "execution_count": null,
      "metadata": {},
      "outputs": [],
      "source": [
        "# Import libraries\n",
        "import pandas as pd\n",
        "import numpy as np\n",
        "import matplotlib.pyplot as plt\n",
        "import seaborn as sns\n",
        "import warnings\n",
        "warnings.filterwarnings('ignore')\n",
        "\n",
        "# Load data\n",
        "data_path = 'dataset/when2heat.csv'\n",
        "df = pd.read_csv(data_path, sep=';')\n",
        "df['datetime'] = pd.to_datetime(df['utc_timestamp'])\n",
        "df.set_index('datetime', inplace=True)\n",
        "\n",
        "print(\"🔍 Data Quality Assessment Started!\")\n",
        "print(f\"📊 Dataset shape: {df.shape}\")\n",
        "print(f\"📅 Date range: {df.index.min()} to {df.index.max()}\")\n"
      ]
    }
  ],
  "metadata": {
    "language_info": {
      "name": "python"
    }
  },
  "nbformat": 4,
  "nbformat_minor": 2
}
