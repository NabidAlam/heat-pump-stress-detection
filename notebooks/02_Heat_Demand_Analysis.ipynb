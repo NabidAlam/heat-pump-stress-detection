{
  "cells": [
    {
      "cell_type": "markdown",
      "metadata": {},
      "source": [
        "# **Heat Demand Analysis**\n",
        "## Heat Pump Stress Detection for Demand Response - EDA Part 2\n",
        "\n",
        "**Purpose:** Comprehensive analysis of heat demand patterns  \n",
        "**Focus:** Temporal patterns, seasonal variations, country comparisons  \n",
        "\n",
        "---\n",
        "\n",
        "### **What this notebook covers:**\n",
        "- Heat demand column identification\n",
        "- Missing value analysis for heat demand\n",
        "- Temporal patterns (hourly, daily, seasonal)\n",
        "- Country-wise heat demand comparison\n",
        "- Data quality assessment for heat demand\n"
      ]
    },
    {
      "cell_type": "code",
      "execution_count": null,
      "metadata": {},
      "outputs": [],
      "source": [
        "# Import libraries\n",
        "import pandas as pd\n",
        "import numpy as np\n",
        "import matplotlib.pyplot as plt\n",
        "import seaborn as sns\n",
        "import warnings\n",
        "warnings.filterwarnings('ignore')\n",
        "\n",
        "# Load data (assuming already processed from notebook 1)\n",
        "data_path = 'dataset/when2heat.csv'\n",
        "df = pd.read_csv(data_path, sep=';')\n",
        "df['datetime'] = pd.to_datetime(df['utc_timestamp'])\n",
        "df.set_index('datetime', inplace=True)\n",
        "\n",
        "print(\"Heat Demand Analysis Started!\")\n"
      ]
    },
    {
      "cell_type": "code",
      "execution_count": null,
      "metadata": {},
      "outputs": [],
      "source": [
        "# Heat demand columns analysis\n",
        "heat_demand_cols = [col for col in df.columns if 'heat_demand_total' in col]\n",
        "print(f\"Found {len(heat_demand_cols)} heat demand columns\")\n",
        "print(f\"Countries: {[col.split('_')[0] for col in heat_demand_cols[:5]]}...\")\n",
        "\n",
        "# Analyze heat demand patterns\n",
        "heat_data = df[heat_demand_cols]\n",
        "\n",
        "print(\"\\nHeat Demand Statistics:\")\n",
        "print(f\"Missing values: {heat_data.isna().sum().sum():,} / {heat_data.size:,} ({heat_data.isna().sum().sum()/heat_data.size*100:.1f}%)\")\n",
        "print(f\"Value range: {heat_data.min().min():.0f} to {heat_data.max().max():.0f}\")\n",
        "print(f\"Negative values: {(heat_data < 0).sum().sum():,}\")\n",
        "\n",
        "# Missing values by country\n",
        "missing_by_country = heat_data.isna().sum()\n",
        "print(f\"\\nMissing values by country (top 10):\")\n",
        "print(missing_by_country.sort_values(ascending=False).head(10))\n"
      ]
    }
  ],
  "metadata": {
    "language_info": {
      "name": "python"
    }
  },
  "nbformat": 4,
  "nbformat_minor": 2
}
