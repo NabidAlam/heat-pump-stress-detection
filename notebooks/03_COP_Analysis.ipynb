{
  "cells": [
    {
      "cell_type": "markdown",
      "metadata": {},
      "source": [
        "# **COP (Coefficient of Performance) Analysis**\n",
        "## Heat Pump Stress Detection for Demand Response - EDA Part 3\n",
        "\n",
        "**Purpose:** Analysis of heat pump COP patterns and efficiency  \n",
        "**Focus:** COP variations, seasonal patterns, efficiency analysis  \n",
        "\n",
        "---\n",
        "\n",
        "### **What this notebook covers:**\n",
        "- COP column identification and data conversion\n",
        "- Missing value analysis for COP data\n",
        "- COP distribution and value ranges\n",
        "- Seasonal and temporal COP patterns\n",
        "- COP vs temperature relationship analysis\n"
      ]
    },
    {
      "cell_type": "code",
      "execution_count": null,
      "metadata": {},
      "outputs": [],
      "source": [
        "# Import libraries\n",
        "import pandas as pd\n",
        "import numpy as np\n",
        "import matplotlib.pyplot as plt\n",
        "import seaborn as sns\n",
        "import warnings\n",
        "warnings.filterwarnings('ignore')\n",
        "\n",
        "# Load data\n",
        "data_path = 'dataset/when2heat.csv'\n",
        "df = pd.read_csv(data_path, sep=';')\n",
        "df['datetime'] = pd.to_datetime(df['utc_timestamp'])\n",
        "df.set_index('datetime', inplace=True)\n",
        "\n",
        "print(\"COP Analysis Started!\")\n"
      ]
    },
    {
      "cell_type": "code",
      "execution_count": null,
      "metadata": {},
      "outputs": [],
      "source": [
        "# COP columns analysis\n",
        "cop_cols = [col for col in df.columns if 'COP_ASHP_floor' in col]\n",
        "print(f\"Found {len(cop_cols)} COP columns\")\n",
        "print(f\"Countries: {[col.split('_')[0] for col in cop_cols[:5]]}...\")\n",
        "\n",
        "# Convert COP columns to numeric (handle comma decimals)\n",
        "cop_data = df[cop_cols].copy()\n",
        "for col in cop_cols:\n",
        "    cop_data[col] = pd.to_numeric(cop_data[col].astype(str).str.replace(',', '.'), errors='coerce')\n",
        "\n",
        "print(\"\\nCOP Statistics:\")\n",
        "print(f\"Missing values: {cop_data.isna().sum().sum():,} / {cop_data.size:,} ({cop_data.isna().sum().sum()/cop_data.size*100:.1f}%)\")\n",
        "print(f\"Value range: {cop_data.min().min():.2f} to {cop_data.max().max():.2f}\")\n",
        "unrealistic_cop = ((cop_data < 1.0) | (cop_data > 6.0)).sum().sum()\n",
        "print(f\"Unrealistic COP values (<1.0 or >6.0): {unrealistic_cop:,}\")\n",
        "\n",
        "# COP distribution analysis\n",
        "print(f\"\\nCOP Distribution:\")\n",
        "print(f\"Mean COP: {cop_data.mean().mean():.2f}\")\n",
        "print(f\"Median COP: {cop_data.median().median():.2f}\")\n",
        "print(f\"Std COP: {cop_data.std().mean():.2f}\")\n"
      ]
    }
  ],
  "metadata": {
    "language_info": {
      "name": "python"
    }
  },
  "nbformat": 4,
  "nbformat_minor": 2
}
