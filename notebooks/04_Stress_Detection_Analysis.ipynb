{
  "cells": [
    {
      "cell_type": "markdown",
      "metadata": {},
      "source": [
        "# **Stress Detection Feasibility Analysis**\n",
        "## Heat Pump Stress Detection for Demand Response - EDA Part 4\n",
        "\n",
        "**Purpose:** Analyze feasibility of stress detection and define stress criteria  \n",
        "**Focus:** Stress hour identification, threshold analysis, pattern recognition  \n",
        "\n",
        "---\n",
        "\n",
        "### **What this notebook covers:**\n",
        "- Stress detection methodology\n",
        "- Threshold definition and sensitivity analysis\n",
        "- Stress pattern analysis (temporal, seasonal)\n",
        "- Data quality requirements for stress detection\n",
        "- Recommendations for stress detection approach\n"
      ]
    },
    {
      "cell_type": "code",
      "execution_count": null,
      "metadata": {},
      "outputs": [],
      "source": [
        "# Import libraries\n",
        "import pandas as pd\n",
        "import numpy as np\n",
        "import matplotlib.pyplot as plt\n",
        "import seaborn as sns\n",
        "import warnings\n",
        "warnings.filterwarnings('ignore')\n",
        "\n",
        "# Load data\n",
        "data_path = 'dataset/when2heat.csv'\n",
        "df = pd.read_csv(data_path, sep=';')\n",
        "df['datetime'] = pd.to_datetime(df['utc_timestamp'])\n",
        "df.set_index('datetime', inplace=True)\n",
        "\n",
        "# Get relevant columns\n",
        "heat_demand_cols = [col for col in df.columns if 'heat_demand_total' in col]\n",
        "cop_cols = [col for col in df.columns if 'COP_ASHP_floor' in col]\n",
        "\n",
        "print(\"Stress Detection Analysis Started!\")\n",
        "print(f\"Heat demand columns: {len(heat_demand_cols)}\")\n",
        "print(f\"COP columns: {len(cop_cols)}\")\n"
      ]
    }
  ],
  "metadata": {
    "language_info": {
      "name": "python"
    }
  },
  "nbformat": 4,
  "nbformat_minor": 2
}
